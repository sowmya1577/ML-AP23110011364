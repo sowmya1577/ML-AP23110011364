{
  "nbformat": 4,
  "nbformat_minor": 0,
  "metadata": {
    "colab": {
      "provenance": []
    },
    "kernelspec": {
      "name": "python3",
      "display_name": "Python 3"
    },
    "language_info": {
      "name": "python"
    }
  },
  "cells": [
    {
      "cell_type": "code",
      "source": [
        "# 1.Preprocessing\n",
        "import pandas as pd\n",
        "import numpy as np\n",
        "from sklearn.model_selection import train_test_split\n",
        "from sklearn.preprocessing import StandardScaler"
      ],
      "metadata": {
        "id": "Opn1Kl3vP0G4"
      },
      "execution_count": null,
      "outputs": []
    },
    {
      "cell_type": "code",
      "execution_count": null,
      "metadata": {
        "colab": {
          "base_uri": "https://localhost:8080/",
          "height": 313
        },
        "id": "ne9oB3e-L4DP",
        "outputId": "4d1f5abf-e1b7-47b5-eb9f-cca2ea4d1a26"
      },
      "outputs": [
        {
          "output_type": "stream",
          "name": "stdout",
          "text": [
            "Requirement already satisfied: gdown in /usr/local/lib/python3.12/dist-packages (5.2.0)\n",
            "Requirement already satisfied: beautifulsoup4 in /usr/local/lib/python3.12/dist-packages (from gdown) (4.13.5)\n",
            "Requirement already satisfied: filelock in /usr/local/lib/python3.12/dist-packages (from gdown) (3.19.1)\n",
            "Requirement already satisfied: requests[socks] in /usr/local/lib/python3.12/dist-packages (from gdown) (2.32.4)\n",
            "Requirement already satisfied: tqdm in /usr/local/lib/python3.12/dist-packages (from gdown) (4.67.1)\n",
            "Requirement already satisfied: soupsieve>1.2 in /usr/local/lib/python3.12/dist-packages (from beautifulsoup4->gdown) (2.8)\n",
            "Requirement already satisfied: typing-extensions>=4.0.0 in /usr/local/lib/python3.12/dist-packages (from beautifulsoup4->gdown) (4.15.0)\n",
            "Requirement already satisfied: charset_normalizer<4,>=2 in /usr/local/lib/python3.12/dist-packages (from requests[socks]->gdown) (3.4.3)\n",
            "Requirement already satisfied: idna<4,>=2.5 in /usr/local/lib/python3.12/dist-packages (from requests[socks]->gdown) (3.10)\n",
            "Requirement already satisfied: urllib3<3,>=1.21.1 in /usr/local/lib/python3.12/dist-packages (from requests[socks]->gdown) (2.5.0)\n",
            "Requirement already satisfied: certifi>=2017.4.17 in /usr/local/lib/python3.12/dist-packages (from requests[socks]->gdown) (2025.8.3)\n",
            "Requirement already satisfied: PySocks!=1.5.7,>=1.5.6 in /usr/local/lib/python3.12/dist-packages (from requests[socks]->gdown) (1.7.1)\n"
          ]
        },
        {
          "output_type": "stream",
          "name": "stderr",
          "text": [
            "Downloading...\n",
            "From: https://drive.google.com/uc?id=1ZdhRqYv-JizWV6DxO6C4R_k1kxPhmlF2\n",
            "To: /content/groceries.csv\n",
            "100%|██████████| 14.6k/14.6k [00:00<00:00, 21.3MB/s]\n"
          ]
        },
        {
          "output_type": "execute_result",
          "data": {
            "text/plain": [
              "'groceries.csv'"
            ],
            "application/vnd.google.colaboratory.intrinsic+json": {
              "type": "string"
            }
          },
          "metadata": {},
          "execution_count": 1
        }
      ],
      "source": [
        "!pip install gdown\n",
        "import gdown\n",
        "\n",
        "# File ID from your link\n",
        "file_id = \"1ZdhRqYv-JizWV6DxO6C4R_k1kxPhmlF2\"\n",
        "url = f\"https://drive.google.com/uc?id={file_id}\"\n",
        "\n",
        "output = \"groceries.csv\"\n",
        "gdown.download(url, output, quiet=False)\n"
      ]
    },
    {
      "cell_type": "code",
      "source": [
        "# Load the dataset\n",
        "import pandas as pd\n",
        "\n",
        "df = pd.read_csv(\"groceries.csv\")\n",
        "print(df.head())\n",
        "print(df.info())\n"
      ],
      "metadata": {
        "colab": {
          "base_uri": "https://localhost:8080/"
        },
        "id": "i6hO9bjfMl7A",
        "outputId": "60a8ef6f-16ae-4d79-d4e4-00790b6b9ec9"
      },
      "execution_count": null,
      "outputs": [
        {
          "output_type": "stream",
          "name": "stdout",
          "text": [
            "   Region  Fresh  Milk  Grocery  Frozen  Detergents_Paper  Delicassen  class\n",
            "0       3  12669  9656     7561     214              2674        1338      2\n",
            "1       3   7057  9810     9568    1762              3293        1776      2\n",
            "2       3   6353  8808     7684    2405              3516        7844      2\n",
            "3       3  13265  1196     4221    6404               507        1788      1\n",
            "4       3  22615  5410     7198    3915              1777        5185      1\n",
            "<class 'pandas.core.frame.DataFrame'>\n",
            "RangeIndex: 440 entries, 0 to 439\n",
            "Data columns (total 8 columns):\n",
            " #   Column            Non-Null Count  Dtype\n",
            "---  ------            --------------  -----\n",
            " 0   Region            440 non-null    int64\n",
            " 1   Fresh             440 non-null    int64\n",
            " 2   Milk              440 non-null    int64\n",
            " 3   Grocery           440 non-null    int64\n",
            " 4   Frozen            440 non-null    int64\n",
            " 5   Detergents_Paper  440 non-null    int64\n",
            " 6   Delicassen        440 non-null    int64\n",
            " 7   class             440 non-null    int64\n",
            "dtypes: int64(8)\n",
            "memory usage: 27.6 KB\n",
            "None\n"
          ]
        }
      ]
    },
    {
      "cell_type": "code",
      "source": [
        "print(df.isnull().sum())  # counts NaN values in each column\n"
      ],
      "metadata": {
        "colab": {
          "base_uri": "https://localhost:8080/"
        },
        "id": "JuMAhvFUTU-e",
        "outputId": "de99b5d6-7a2c-4fbf-f16b-d79164ea961b"
      },
      "execution_count": null,
      "outputs": [
        {
          "output_type": "stream",
          "name": "stdout",
          "text": [
            "Region              0\n",
            "Fresh               0\n",
            "Milk                0\n",
            "Grocery             0\n",
            "Frozen              0\n",
            "Detergents_Paper    0\n",
            "Delicassen          0\n",
            "class               0\n",
            "dtype: int64\n"
          ]
        }
      ]
    },
    {
      "cell_type": "code",
      "source": [
        "# features and target labelling\n",
        "import pandas as pd\n",
        "\n",
        "df = pd.read_csv(\"groceries.csv\")\n",
        "\n",
        "X = df.drop(\"class\", axis=1).values   # features\n",
        "y = df[\"class\"].values                # target labels\n"
      ],
      "metadata": {
        "id": "ucmIdSGRNtQt"
      },
      "execution_count": null,
      "outputs": []
    },
    {
      "cell_type": "code",
      "source": [
        "# Splitting Training data and testing data\n",
        "X_train, X_test, y_train, y_test = train_test_split(\n",
        "    X, y, test_size=0.2, random_state=42\n",
        ")"
      ],
      "metadata": {
        "id": "GHK_FhxMOOp1"
      },
      "execution_count": null,
      "outputs": []
    },
    {
      "cell_type": "code",
      "source": [
        "# Scaling the features so that all numbers are in similar range\n",
        "scaler = StandardScaler()\n",
        "X_train = scaler.fit_transform(X_train)\n",
        "X_test = scaler.transform(X_test)"
      ],
      "metadata": {
        "id": "kIaS2xl6QZj9"
      },
      "execution_count": null,
      "outputs": []
    },
    {
      "cell_type": "code",
      "source": [
        "# 2.Scratch implementation of KNN\n",
        "def euclidean_distance(x1, x2):\n",
        "    return np.sqrt(np.sum((x1 - x2)**2))\n",
        "\n",
        "class KNN_Scratch:\n",
        "    def __init__(self, k=3):\n",
        "        self.k = k\n",
        "\n",
        "    def fit(self, X, y):\n",
        "        self.X_train = X\n",
        "        self.y_train = y\n",
        "\n",
        "    def predict(self, X):\n",
        "        predictions = [self._predict_one(x) for x in X]\n",
        "        return np.array(predictions)\n",
        "\n",
        "    def _predict_one(self, x):\n",
        "        distances = [euclidean_distance(x, x_train) for x_train in self.X_train]\n",
        "        k_indices = np.argsort(distances)[:self.k]\n",
        "        k_labels = [self.y_train[i] for i in k_indices]\n",
        "        most_common = max(set(k_labels), key=k_labels.count)\n",
        "        return most_common"
      ],
      "metadata": {
        "id": "iqbI60ZnQ3i5"
      },
      "execution_count": null,
      "outputs": []
    },
    {
      "cell_type": "code",
      "source": [
        "knn_scratch = KNN_Scratch(k=5)\n",
        "knn_scratch.fit(X_train, y_train)\n",
        "\n",
        "y_pred_scratch = knn_scratch.predict(X_test)"
      ],
      "metadata": {
        "id": "5Ut1sOKtQ9B3"
      },
      "execution_count": null,
      "outputs": []
    },
    {
      "cell_type": "code",
      "source": [
        "scratch_acc = np.mean(y_pred_scratch == y_test)\n",
        "print(\"Scratch KNN Accuracy:\", scratch_acc)"
      ],
      "metadata": {
        "colab": {
          "base_uri": "https://localhost:8080/"
        },
        "id": "u0LZoK5lRHc7",
        "outputId": "d6a5cfd8-7f30-463a-bcd8-2a541f85d635"
      },
      "execution_count": null,
      "outputs": [
        {
          "output_type": "stream",
          "name": "stdout",
          "text": [
            "Scratch KNN Accuracy: 0.875\n"
          ]
        }
      ]
    },
    {
      "cell_type": "code",
      "source": [
        "# 3.KNN with sklearn\n",
        "from sklearn.neighbors import KNeighborsClassifier\n",
        "from sklearn.metrics import accuracy_score\n",
        "\n",
        "knn = KNeighborsClassifier(n_neighbors=5)   # same k=5\n",
        "knn.fit(X_train, y_train)\n",
        "\n",
        "y_pred_sklearn = knn.predict(X_test)\n",
        "\n",
        "sklearn_acc = accuracy_score(y_test, y_pred_sklearn)\n",
        "print(\"Sklearn KNN Accuracy:\", sklearn_acc)\n"
      ],
      "metadata": {
        "colab": {
          "base_uri": "https://localhost:8080/"
        },
        "id": "cikthJSnRNT5",
        "outputId": "25ac5cc4-7e55-4ca7-905b-fb7f6750aa92"
      },
      "execution_count": null,
      "outputs": [
        {
          "output_type": "stream",
          "name": "stdout",
          "text": [
            "Sklearn KNN Accuracy: 0.875\n"
          ]
        }
      ]
    }
  ]
}